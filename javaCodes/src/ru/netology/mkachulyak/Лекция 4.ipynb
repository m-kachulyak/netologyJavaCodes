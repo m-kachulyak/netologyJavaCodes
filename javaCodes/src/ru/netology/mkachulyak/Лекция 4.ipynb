{
 "cells": [
  {
   "cell_type": "markdown",
   "metadata": {
    "id": "LYoL128Lq5qm"
   },
   "source": [
    "# Вступление"
   ]
  },
  {
   "cell_type": "markdown",
   "metadata": {
    "id": "qoaJggJLaA1F"
   },
   "source": [
    "## Проверка связи\n",
    "\n",
    "<table>\n",
    "  \n",
    "  <tr>\n",
    "    <td>\n",
    "\n",
    "### Если у вас нет звука:\n",
    "\n",
    "* убедитесь, что на вашем устройстве и на колонках включён звук\n",
    "\n",
    "* обновите страницу вебинара или закройте <p>страницу и заново присоединитесь к вебинару\n",
    "\n",
    "* откройте вебинар в другом браузере\n",
    "\n",
    "* перезагрузите компьютер/ноутбук и заново попытайтесь зайти\n",
    "    </td>\n",
    "    <td width='60px'>\n",
    "    </td>\n",
    "    <td>\n",
    "\n",
    "### Поставьте в чат\n",
    "\n",
    "\\+ если меня видно и слышно\n",
    "\n",
    "\\– если нет\n",
    "    </td>\n",
    "  </tr>\n",
    "</table>\n",
    "\n",
    "<br><br>"
   ]
  },
  {
   "cell_type": "markdown",
   "metadata": {
    "id": "Lj_pa7SHcSK-"
   },
   "source": [
    "## О спикере\n",
    "\n",
    "**Иван Ткаченко**\n",
    "- Тимлид в ООО «ТЕХНОКОМ», Тюмень\n",
    "- Опыт коммерческой разработки на Java — 7 лет\n",
    "- Преподаватель ТюмГУ, доцент кафедры программной и системной инженерии"
   ]
  },
  {
   "cell_type": "markdown",
   "metadata": {
    "id": "8kCs7pHIdIhV"
   },
   "source": [
    "## Правила участия\n",
    "\n",
    "1. Продолжительность вебинара — 80 минут. Через 40 минут перерыв — 5 минут\n",
    "2. Запустите IDE для выполнения практических заданий вебинара. Во время демонстрации работы повторяйте за спикером: это помогает лучше понять материал\n",
    "3. Вопросы и уточнения:\n",
    "  - приготовьте блокнот и ручку или создайте копию этого блокнота, чтобы фиксировать вопросы и важную информацию во время занятия\n",
    "  - вы можете писать вопросы в чате во время вебинара или высказывать в блоке «Ваши вопросы»\n",
    "4. Запись вебинара будет доступна в личном кабинете\n",
    "5. Обсуждение можно продолжить в чате"
   ]
  },
  {
   "cell_type": "markdown",
   "metadata": {
    "id": "AhuVv5eJdPrA"
   },
   "source": [
    "## Вспомним прошлое занятие"
   ]
  },
  {
   "cell_type": "markdown",
   "metadata": {
    "id": "zn-_kXrgdXCc"
   },
   "source": [
    "1. Узнали, какие условные операторы бывают, и научились их применять.\n",
    "\n",
    "1. Узнали, какие бывают способы задания циклов, разобрали особенности каждого из них\n",
    "\n",
    "1. Узнали, какие операторы перехода есть, разобрались, для чего их используют и когда применяют"
   ]
  },
  {
   "cell_type": "markdown",
   "metadata": {
    "id": "rGoylXKOrBfO"
   },
   "source": [
    "---\n",
    "\n",
    "## Цели занятия\n",
    "\n",
    "1. Узнать, что такое массив и какими бывают массивы\n",
    "\n",
    "1. Научиться объявлять и инициализировать массив, присваивать значения элементам массива\n",
    "\n",
    "1. Рассмотреть класс для работы с массивами `Arrays` и его возможности\n",
    "\n",
    "1. Научиться задавать многомерные массивы\n",
    "\n"
   ]
  },
  {
   "cell_type": "markdown",
   "metadata": {
    "id": "M4u0mQj-aEL0"
   },
   "source": [
    "## План занятия\n",
    "\n",
    "1. Одномерные массивы\n",
    "\n",
    "1. Оператор `for`\n",
    "\n",
    "1. Класс `java.util.Arrays`\n",
    "\n",
    "1. Многомерные массивы\n"
   ]
  },
  {
   "cell_type": "markdown",
   "metadata": {
    "id": "a4GJOblgdfkj"
   },
   "source": [
    "## Ваши вопросы"
   ]
  },
  {
   "cell_type": "markdown",
   "metadata": {
    "id": "LFYYa2LXZ48s"
   },
   "source": [
    "# Стуктуры данных. Массивы"
   ]
  },
  {
   "cell_type": "markdown",
   "metadata": {
    "id": "IBtYkY052s8J"
   },
   "source": [
    "Массив — объект-контейнер, хранящий фиксированное количество элементов одинакового типа. Длина массива фиксируется после создания и не меняется на всём протяжении его существаования.\n",
    "\n",
    "Нумерация в массиве начинается с нуля, т. е. первый элемент имеет индекс 0, второй — 1 и т.д."
   ]
  },
  {
   "cell_type": "markdown",
   "metadata": {
    "id": "W5Is8WbK2qmp"
   },
   "source": [
    "## 1. Одномерные массивы\n"
   ]
  },
  {
   "cell_type": "markdown",
   "metadata": {
    "id": "AJ4E1n73aTSV"
   },
   "source": [
    "\n",
    "При объявлении массива сначала указывают тип данных, затем ставят квадратные скобки и имя переменной. Квадратные скобки можно ставить после имени переменной, но это не принято:\n",
    "\n",
    "```java\n",
    "int[] intArray;\n",
    "int intarray2[];\n",
    "long[] longArray;\n",
    "String[] stringArray;\n",
    "double[] doubleArray;\n",
    "```\n",
    "\n",
    "Для инициализации массива используют оператор `new` и имя типа данных с указанием размера массива в квадратных скобках:\n",
    "\n",
    "```java\n",
    "int[] intArray = new int[10];\n",
    "double[] doubleArray = new double[12];\n",
    "```\n",
    "\n",
    "После иниициализации элементам массива можно присваивать значения. Доступ происходит по индексу, указываемому в квадратных скобках:\n",
    "\n",
    "```java\n",
    "intArray[0] = 3;\n",
    "intArray[intArray.length - 1] = 54;\n",
    "\n",
    "doubleArray[5] = 8;\n",
    "```\n",
    "\n",
    "Для первоначальной инициализации можно использовать вот такую конструкцию:\n",
    "\n",
    "```java\n",
    "int[] intArray = {1, 5, 10, -5};\n",
    "double[] doubleArray = {2, 5.4, 3d};\n",
    "```"
   ]
  },
  {
   "cell_type": "markdown",
   "metadata": {
    "id": "CwmBoF3Je4X6"
   },
   "source": [
    "## Ваши вопросы"
   ]
  },
  {
   "cell_type": "markdown",
   "metadata": {
    "id": "bicTIe7m2gsp"
   },
   "source": [
    "\n",
    "## 2. Оператор for\n",
    "\n"
   ]
  },
  {
   "cell_type": "markdown",
   "metadata": {
    "id": "_mQmku19aV98"
   },
   "source": [
    "\n",
    "Существует специальная форма `for` для работы с массивами и коллекциями:\n",
    "\n",
    "```java\n",
    "int[] intArray = {1, 5, 10, -5};\n",
    "for (int ia : intArray) {\n",
    "    System.out.println(ia);\n",
    "}\n",
    "```\n",
    "\n",
    "Эквивалентна:\n",
    "\n",
    "```java\n",
    "int[] intArray = {1, 5, 10, -5};\n",
    "for (int i = 0; i < intArray.length; i++) {\n",
    "    System.out.println(intArray[i]);\n",
    "}\n",
    "```\n",
    "\n",
    "<table>\n",
    "  <tr>\n",
    "        <td style=\"max-width:150px;\">\n",
    "\n",
    "### Практика «*Средняя температура по больнице*»\n",
    "\n",
    "<br>\n",
    "\n",
    "Реализуйте метод, который принимает массив со значениями температуры пациентов.\n",
    "\n",
    "<br>\n",
    "\n",
    "Метод должен:\n",
    "\n",
    "- вывести значения\n",
    "\n",
    "- подсчитать среднюю температру\n",
    "\n",
    "- подсчитать количество здоровых пациентов\n",
    "<br>\n",
    "\n",
    "```java\n",
    "public static String getReport(float[] temperatureData) {\n",
    "    \t/*TODO Формат вывода:\n",
    "       \tТемпературы пациентов: 37,5 36,9 38,2 33,5 32,2\n",
    "       \tСредняя температура: 35,67\n",
    "       \tКоличество здоровых: 1\n",
    "     \t*/\n",
    "    \treturn \"\";\n",
    "}\n",
    "```\n",
    "Пример  дан в виде комментария\n",
    "    </td>\n",
    "  </tr>\n",
    "</table>"
   ]
  },
  {
   "cell_type": "markdown",
   "metadata": {
    "id": "bvjn1FkffBeJ"
   },
   "source": [
    "## Ваши вопросы"
   ]
  },
  {
   "cell_type": "markdown",
   "metadata": {
    "id": "2YYAxjPu1F86"
   },
   "source": [
    "\n",
    "## 3. Класс java.util.Arrays\n",
    "\n",
    "\n",
    "\n"
   ]
  },
  {
   "cell_type": "markdown",
   "metadata": {
    "id": "CMCN2Se4aakV"
   },
   "source": [
    "\n",
    "Класс содержит методы для работы с массивами: для копирования, поиска, заполнения, сортировки и т. д.\n",
    "\n",
    "* `copyOf` и `copyOfRange` — копирование массива или части массива\n",
    "\n",
    "```java\n",
    "int[] intro = new int[] { 1, 2, 3, 4 };\n",
    "int[] outro = Arrays.copyOfRange(intro, 0, 2);\n",
    "```\n",
    "\n",
    "* `fill` — наполнение массива одинаковыми элементами\n",
    "\n",
    "```java\n",
    "int[] intro = new int[100];\n",
    "Arrays.fill(intro, 1);\n",
    "```   \n",
    "\n",
    "* `sort` — наполнение массива одинаковыми элементами\n",
    "\n",
    "```java\n",
    "int[] intro = {5, 6, -8, 152};\n",
    "Arrays.sort(intro);\n",
    "```\n",
    "\n",
    "* `toString` — вывод значений массива на экран\n",
    "\n",
    "\n",
    "<table>\n",
    "  <tr>\n",
    "        <td>\n",
    "\n",
    "### Демонстрация работы «*Вывод на экран значений массива*»\n",
    "\n",
    "<br>\n",
    "\n",
    "Выполним код:\n",
    "\n",
    "```java\n",
    "int[] array = new int[3];\n",
    "array[0] = 5;\n",
    "array[1] = 6;\n",
    "\n",
    "System.out.println(array.toString());\n",
    "System.out.println(Arrays.toString(array));\n",
    "```\n",
    "\n",
    "Сравните два подхода к выводу массива на экран\n",
    "    </td>\n",
    "  </tr>\n",
    "</table>"
   ]
  },
  {
   "cell_type": "markdown",
   "metadata": {
    "id": "77IfNRY1fK3P"
   },
   "source": [
    "## Ваши вопросы"
   ]
  },
  {
   "cell_type": "markdown",
   "metadata": {
    "id": "93qzXZeH2VHC"
   },
   "source": [
    "\n",
    "## 4. Многомерные массивы\n"
   ]
  },
  {
   "cell_type": "markdown",
   "metadata": {
    "id": "9asvQ5l1aeit"
   },
   "source": [
    "\n",
    "Объявление двумерного массива:\n",
    "\n",
    "```java\n",
    "int[][] array = new int[3][3];\n",
    "```\n",
    "\n",
    "По сути является не двумерным массивом, а массивом массивов, а значит, каждый из них может быть разной размерности:\n",
    "\n",
    "```java\n",
    "int[][] array = new int[3][];\n",
    "array[0] = new int[3];\n",
    "array[1] = new int[10];\n",
    "```\n",
    "\n",
    "* `deepToString` — преобразует в строку многомерные массивы\n",
    "\n",
    "```\n",
    "int[][] array = new int[3][];\n",
    "array[0] = new int[3];\n",
    "array[1] = new int[10];\n",
    "\n",
    "System.out.println(Arrays.deepToString(array));\n",
    "```"
   ]
  },
  {
   "cell_type": "markdown",
   "metadata": {
    "id": "HqruWDK32Skb"
   },
   "source": [
    "<table>\n",
    "  <tr>\n",
    "        <td style=\"max-width:150px;\">\n",
    "\n",
    "### Практика «*Крестики-нолики*»\n",
    "\n",
    "<br>\n",
    "\n",
    "Напишите программу, которая определит, кто выиграл в игре крестики-нолики.\n",
    "\n",
    "В метод передаётся поле 3×3.\n",
    "\n",
    "Нужно определить победителя:\n",
    "- `\"CrossWin\"` — крестики\n",
    "- `\"CircleWin\"` — нолики\n",
    "- `\"Draw\"` — никто или оба\n",
    "\n",
    "```java\n",
    "public static void main(String[] args) {\n",
    "    run(\"XXX OO. ...\");\n",
    "    run(\"OXO XO. .XO\");\n",
    "    run(\"OXO XOX OX.\");\n",
    "    run(\"XOX OXO OXO\");\n",
    "    run(\"... ... ...\");\n",
    "    run(\"XXX OOO ...\");\n",
    "    run(\"XOO XOO XX.\");\n",
    "    run(\".O. XO. XOX\");\n",
    "}\n",
    "\n",
    "private static void run(String description) {\n",
    "    System.out.println(description.replaceAll(\" \", \"\\n\"));\n",
    "    System.out.println(getGameResult(createFromString(description)));\n",
    "    System.out.println();\n",
    "}\n",
    "\n",
    "private static char[][] createFromString(String str) {\n",
    "    String[] field = str.split(\" \");\n",
    "    var ans = new char[3][3];\n",
    "    for (int x = 0; x < field.length; x++)\n",
    "        for (var y = 0; y < field[x].length(); y++)\n",
    "            ans[x][y] = field[x].charAt(y);\n",
    "    return ans;\n",
    "}\n",
    "\n",
    "public static String getGameResult(char[][] field) {\n",
    "    // ToDo: реализуйте этот метод\n",
    "}\n",
    "```\n",
    "\n",
    "Используйте вспомогательные методы\n",
    "    </td>\n",
    "  </tr>\n",
    "</table>"
   ]
  },
  {
   "cell_type": "markdown",
   "metadata": {
    "id": "kMzfVrL8fb_v"
   },
   "source": [
    "## Ваши вопросы"
   ]
  },
  {
   "cell_type": "markdown",
   "metadata": {
    "id": "nSFeFx2CZzGO"
   },
   "source": [
    "# Заключение"
   ]
  },
  {
   "cell_type": "markdown",
   "metadata": {
    "id": "jaXp3KM1fuKT"
   },
   "source": [
    "## Итоги занятия"
   ]
  },
  {
   "cell_type": "markdown",
   "metadata": {
    "id": "t14yhNn7hshx"
   },
   "source": [
    "1. Узнали, что такое массив и какими бывают массивы\n",
    "\n",
    "1. Научились объявлять и инициализировать массив, присваивать значения элементам массива\n",
    "\n",
    "1. Рассмотрели класс для работы с массивами `Arrays` и его возможности\n",
    "\n",
    "1. Научились задавать многомерные массивы\n"
   ]
  },
  {
   "cell_type": "markdown",
   "metadata": {
    "id": "0ht1Di5g_XU1"
   },
   "source": [
    "<table>\n",
    "  <tr>\n",
    "        <td>\n",
    "\n",
    "## Домашнее задание    \n",
    "\n",
    "**Цель задания:** научиться применять массив для хранения данных.\n",
    "\n",
    "<br>\n",
    "\n",
    "Реализуйте систему хранения данных.\n",
    "\n",
    "- Добавьте в проект массивы для хранения информации по транзакциям\n",
    "- Реализуйте метод поиска операций клиента за выбранный диапазон дат\n",
    "    </td>\n",
    "  </tr>\n",
    "</table>"
   ]
  },
  {
   "cell_type": "markdown",
   "metadata": {
    "id": "JbMMzDSdfyKz"
   },
   "source": [
    "## Анонс следующего занятия"
   ]
  },
  {
   "cell_type": "markdown",
   "metadata": {
    "id": "VehPqoIzf3eS"
   },
   "source": [
    "**Вебинар по теме «Объектно-ориентированное программирование. Классы»**"
   ]
  },
  {
   "cell_type": "markdown",
   "metadata": {
    "id": "ppBMzvY3fdlm"
   },
   "source": [
    "## Ваши вопросы"
   ]
  }
 ],
 "metadata": {
  "colab": {
   "provenance": []
  },
  "kernelspec": {
   "display_name": "Python 3",
   "language": "python",
   "name": "python3"
  },
  "language_info": {
   "codemirror_mode": {
    "name": "ipython",
    "version": 3
   },
   "file_extension": ".py",
   "mimetype": "text/x-python",
   "name": "python",
   "nbconvert_exporter": "python",
   "pygments_lexer": "ipython3",
   "version": "3.8.8"
  }
 },
 "nbformat": 4,
 "nbformat_minor": 1
}
